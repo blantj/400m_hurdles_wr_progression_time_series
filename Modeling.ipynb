{
 "cells": [
  {
   "cell_type": "markdown",
   "id": "fa8c2946",
   "metadata": {},
   "source": [
    "# Import Libraries"
   ]
  },
  {
   "cell_type": "code",
   "execution_count": 1,
   "id": "387480ba",
   "metadata": {},
   "outputs": [],
   "source": [
    "import pandas as pd\n",
    "import numpy as np"
   ]
  },
  {
   "cell_type": "markdown",
   "id": "d2a6fd93",
   "metadata": {},
   "source": [
    "# Obtain Data"
   ]
  },
  {
   "cell_type": "code",
   "execution_count": 2,
   "id": "d2be5b81",
   "metadata": {},
   "outputs": [
    {
     "name": "stdout",
     "output_type": "stream",
     "text": [
      "df shape:  (23, 7)\n"
     ]
    },
    {
     "data": {
      "text/html": [
       "<div>\n",
       "<style scoped>\n",
       "    .dataframe tbody tr th:only-of-type {\n",
       "        vertical-align: middle;\n",
       "    }\n",
       "\n",
       "    .dataframe tbody tr th {\n",
       "        vertical-align: top;\n",
       "    }\n",
       "\n",
       "    .dataframe thead th {\n",
       "        text-align: right;\n",
       "    }\n",
       "</style>\n",
       "<table border=\"1\" class=\"dataframe\">\n",
       "  <thead>\n",
       "    <tr style=\"text-align: right;\">\n",
       "      <th></th>\n",
       "      <th>Mark</th>\n",
       "      <th>Wind</th>\n",
       "      <th>Competitor</th>\n",
       "      <th>DOB</th>\n",
       "      <th>Country</th>\n",
       "      <th>Venue</th>\n",
       "      <th>Date</th>\n",
       "    </tr>\n",
       "  </thead>\n",
       "  <tbody>\n",
       "    <tr>\n",
       "      <th>0</th>\n",
       "      <td>45.94</td>\n",
       "      <td>NaN</td>\n",
       "      <td>Karsten WARHOLM</td>\n",
       "      <td>28 FEB 1996</td>\n",
       "      <td>NOR</td>\n",
       "      <td>Olympic Stadium, Tokyo (JPN)</td>\n",
       "      <td>03 AUG 2021</td>\n",
       "    </tr>\n",
       "    <tr>\n",
       "      <th>1</th>\n",
       "      <td>46.70</td>\n",
       "      <td>NaN</td>\n",
       "      <td>Karsten WARHOLM</td>\n",
       "      <td>28 FEB 1996</td>\n",
       "      <td>NOR</td>\n",
       "      <td>Bislett Stadion, Oslo (NOR)</td>\n",
       "      <td>01 JUL 2021</td>\n",
       "    </tr>\n",
       "    <tr>\n",
       "      <th>2</th>\n",
       "      <td>46.78</td>\n",
       "      <td>NaN</td>\n",
       "      <td>Kevin YOUNG</td>\n",
       "      <td>16 SEP 1966</td>\n",
       "      <td>USA</td>\n",
       "      <td>Estadio Olímpico, Barcelona (ESP)</td>\n",
       "      <td>06 AUG 1992</td>\n",
       "    </tr>\n",
       "    <tr>\n",
       "      <th>3</th>\n",
       "      <td>47.02</td>\n",
       "      <td>NaN</td>\n",
       "      <td>Edwin MOSES</td>\n",
       "      <td>31 AUG 1955</td>\n",
       "      <td>USA</td>\n",
       "      <td>Koblenz (GER)</td>\n",
       "      <td>31 AUG 1983</td>\n",
       "    </tr>\n",
       "    <tr>\n",
       "      <th>4</th>\n",
       "      <td>47.13</td>\n",
       "      <td>NaN</td>\n",
       "      <td>Edwin MOSES</td>\n",
       "      <td>31 AUG 1955</td>\n",
       "      <td>USA</td>\n",
       "      <td>Milano (ITA)</td>\n",
       "      <td>03 JUL 1980</td>\n",
       "    </tr>\n",
       "  </tbody>\n",
       "</table>\n",
       "</div>"
      ],
      "text/plain": [
       "    Mark  Wind       Competitor          DOB Country  \\\n",
       "0  45.94   NaN  Karsten WARHOLM  28 FEB 1996     NOR   \n",
       "1  46.70   NaN  Karsten WARHOLM  28 FEB 1996     NOR   \n",
       "2  46.78   NaN      Kevin YOUNG  16 SEP 1966     USA   \n",
       "3  47.02   NaN      Edwin MOSES  31 AUG 1955     USA   \n",
       "4  47.13   NaN      Edwin MOSES  31 AUG 1955     USA   \n",
       "\n",
       "                               Venue         Date  \n",
       "0       Olympic Stadium, Tokyo (JPN)  03 AUG 2021  \n",
       "1        Bislett Stadion, Oslo (NOR)  01 JUL 2021  \n",
       "2  Estadio Olímpico, Barcelona (ESP)  06 AUG 1992  \n",
       "3                      Koblenz (GER)  31 AUG 1983  \n",
       "4                       Milano (ITA)  03 JUL 1980  "
      ]
     },
     "execution_count": 2,
     "metadata": {},
     "output_type": "execute_result"
    }
   ],
   "source": [
    "df = pd.read_csv('Data/400m_Hurdles_WR_Progression.csv')\n",
    "print('df shape: ', df.shape)\n",
    "df.head()"
   ]
  },
  {
   "cell_type": "markdown",
   "id": "1a1b2e5a",
   "metadata": {},
   "source": [
    "# Scrub Data"
   ]
  },
  {
   "cell_type": "markdown",
   "id": "1a596c50",
   "metadata": {},
   "source": [
    "Confirm what scrubbing needed with df.info()"
   ]
  },
  {
   "cell_type": "code",
   "execution_count": 3,
   "id": "9bf2b422",
   "metadata": {},
   "outputs": [
    {
     "name": "stdout",
     "output_type": "stream",
     "text": [
      "<class 'pandas.core.frame.DataFrame'>\n",
      "RangeIndex: 23 entries, 0 to 22\n",
      "Data columns (total 7 columns):\n",
      " #   Column      Non-Null Count  Dtype  \n",
      "---  ------      --------------  -----  \n",
      " 0   Mark        23 non-null     object \n",
      " 1   Wind        0 non-null      float64\n",
      " 2   Competitor  23 non-null     object \n",
      " 3   DOB         23 non-null     object \n",
      " 4   Country     23 non-null     object \n",
      " 5   Venue       23 non-null     object \n",
      " 6   Date        23 non-null     object \n",
      "dtypes: float64(1), object(6)\n",
      "memory usage: 1.4+ KB\n"
     ]
    }
   ],
   "source": [
    "df.info()"
   ]
  },
  {
   "cell_type": "markdown",
   "id": "36f69186",
   "metadata": {},
   "source": [
    "Drop columns not useful for modeling"
   ]
  },
  {
   "cell_type": "code",
   "execution_count": 4,
   "id": "8d4a710d",
   "metadata": {},
   "outputs": [
    {
     "data": {
      "text/html": [
       "<div>\n",
       "<style scoped>\n",
       "    .dataframe tbody tr th:only-of-type {\n",
       "        vertical-align: middle;\n",
       "    }\n",
       "\n",
       "    .dataframe tbody tr th {\n",
       "        vertical-align: top;\n",
       "    }\n",
       "\n",
       "    .dataframe thead th {\n",
       "        text-align: right;\n",
       "    }\n",
       "</style>\n",
       "<table border=\"1\" class=\"dataframe\">\n",
       "  <thead>\n",
       "    <tr style=\"text-align: right;\">\n",
       "      <th></th>\n",
       "      <th>Mark</th>\n",
       "      <th>Date</th>\n",
       "    </tr>\n",
       "  </thead>\n",
       "  <tbody>\n",
       "    <tr>\n",
       "      <th>0</th>\n",
       "      <td>45.94</td>\n",
       "      <td>03 AUG 2021</td>\n",
       "    </tr>\n",
       "    <tr>\n",
       "      <th>1</th>\n",
       "      <td>46.70</td>\n",
       "      <td>01 JUL 2021</td>\n",
       "    </tr>\n",
       "    <tr>\n",
       "      <th>2</th>\n",
       "      <td>46.78</td>\n",
       "      <td>06 AUG 1992</td>\n",
       "    </tr>\n",
       "    <tr>\n",
       "      <th>3</th>\n",
       "      <td>47.02</td>\n",
       "      <td>31 AUG 1983</td>\n",
       "    </tr>\n",
       "    <tr>\n",
       "      <th>4</th>\n",
       "      <td>47.13</td>\n",
       "      <td>03 JUL 1980</td>\n",
       "    </tr>\n",
       "  </tbody>\n",
       "</table>\n",
       "</div>"
      ],
      "text/plain": [
       "    Mark         Date\n",
       "0  45.94  03 AUG 2021\n",
       "1  46.70  01 JUL 2021\n",
       "2  46.78  06 AUG 1992\n",
       "3  47.02  31 AUG 1983\n",
       "4  47.13  03 JUL 1980"
      ]
     },
     "execution_count": 4,
     "metadata": {},
     "output_type": "execute_result"
    }
   ],
   "source": [
    "df.drop(columns=['Wind', 'Competitor', 'DOB', 'Country', 'Venue'], inplace=True)\n",
    "df.head()"
   ]
  },
  {
   "cell_type": "markdown",
   "id": "c60beb52",
   "metadata": {},
   "source": [
    "Update Mark data type to float"
   ]
  },
  {
   "cell_type": "code",
   "execution_count": 5,
   "id": "4c665b6f",
   "metadata": {},
   "outputs": [
    {
     "data": {
      "text/html": [
       "<div>\n",
       "<style scoped>\n",
       "    .dataframe tbody tr th:only-of-type {\n",
       "        vertical-align: middle;\n",
       "    }\n",
       "\n",
       "    .dataframe tbody tr th {\n",
       "        vertical-align: top;\n",
       "    }\n",
       "\n",
       "    .dataframe thead th {\n",
       "        text-align: right;\n",
       "    }\n",
       "</style>\n",
       "<table border=\"1\" class=\"dataframe\">\n",
       "  <thead>\n",
       "    <tr style=\"text-align: right;\">\n",
       "      <th></th>\n",
       "      <th>Mark</th>\n",
       "      <th>Date</th>\n",
       "    </tr>\n",
       "  </thead>\n",
       "  <tbody>\n",
       "    <tr>\n",
       "      <th>0</th>\n",
       "      <td>45.94</td>\n",
       "      <td>03 AUG 2021</td>\n",
       "    </tr>\n",
       "    <tr>\n",
       "      <th>1</th>\n",
       "      <td>46.70</td>\n",
       "      <td>01 JUL 2021</td>\n",
       "    </tr>\n",
       "    <tr>\n",
       "      <th>2</th>\n",
       "      <td>46.78</td>\n",
       "      <td>06 AUG 1992</td>\n",
       "    </tr>\n",
       "    <tr>\n",
       "      <th>3</th>\n",
       "      <td>47.02</td>\n",
       "      <td>31 AUG 1983</td>\n",
       "    </tr>\n",
       "    <tr>\n",
       "      <th>4</th>\n",
       "      <td>47.13</td>\n",
       "      <td>03 JUL 1980</td>\n",
       "    </tr>\n",
       "  </tbody>\n",
       "</table>\n",
       "</div>"
      ],
      "text/plain": [
       "    Mark         Date\n",
       "0  45.94  03 AUG 2021\n",
       "1  46.70  01 JUL 2021\n",
       "2  46.78  06 AUG 1992\n",
       "3  47.02  31 AUG 1983\n",
       "4  47.13  03 JUL 1980"
      ]
     },
     "execution_count": 5,
     "metadata": {},
     "output_type": "execute_result"
    }
   ],
   "source": [
    "df['Mark'] = df['Mark'].apply(lambda x: x.replace('h', '').replace(' y', ''))\n",
    "df = df.astype({'Mark': float})\n",
    "df.head()"
   ]
  },
  {
   "cell_type": "markdown",
   "id": "e5f83fc1",
   "metadata": {},
   "source": [
    "Update Date data type to datetime and fill in missing dates"
   ]
  },
  {
   "cell_type": "code",
   "execution_count": 6,
   "id": "e34429ea",
   "metadata": {},
   "outputs": [
    {
     "data": {
      "text/html": [
       "<div>\n",
       "<style scoped>\n",
       "    .dataframe tbody tr th:only-of-type {\n",
       "        vertical-align: middle;\n",
       "    }\n",
       "\n",
       "    .dataframe tbody tr th {\n",
       "        vertical-align: top;\n",
       "    }\n",
       "\n",
       "    .dataframe thead th {\n",
       "        text-align: right;\n",
       "    }\n",
       "</style>\n",
       "<table border=\"1\" class=\"dataframe\">\n",
       "  <thead>\n",
       "    <tr style=\"text-align: right;\">\n",
       "      <th></th>\n",
       "      <th>Date</th>\n",
       "      <th>Mark</th>\n",
       "    </tr>\n",
       "  </thead>\n",
       "  <tbody>\n",
       "    <tr>\n",
       "      <th>0</th>\n",
       "      <td>1908-07-22</td>\n",
       "      <td>55.0</td>\n",
       "    </tr>\n",
       "    <tr>\n",
       "      <th>1</th>\n",
       "      <td>1908-07-23</td>\n",
       "      <td>55.0</td>\n",
       "    </tr>\n",
       "    <tr>\n",
       "      <th>2</th>\n",
       "      <td>1908-07-24</td>\n",
       "      <td>55.0</td>\n",
       "    </tr>\n",
       "    <tr>\n",
       "      <th>3</th>\n",
       "      <td>1908-07-25</td>\n",
       "      <td>55.0</td>\n",
       "    </tr>\n",
       "    <tr>\n",
       "      <th>4</th>\n",
       "      <td>1908-07-26</td>\n",
       "      <td>55.0</td>\n",
       "    </tr>\n",
       "  </tbody>\n",
       "</table>\n",
       "</div>"
      ],
      "text/plain": [
       "        Date  Mark\n",
       "0 1908-07-22  55.0\n",
       "1 1908-07-23  55.0\n",
       "2 1908-07-24  55.0\n",
       "3 1908-07-25  55.0\n",
       "4 1908-07-26  55.0"
      ]
     },
     "execution_count": 6,
     "metadata": {},
     "output_type": "execute_result"
    }
   ],
   "source": [
    "df = df.astype({'Date': 'datetime64[D]'})\n",
    "df.sort_values(by='Date', inplace=True)\n",
    "dates_df = pd.DataFrame(pd.date_range(start=df.Date.min(), end=df.Date.max()), columns=['Date'])\n",
    "df = pd.merge(dates_df, df, how='outer', on='Date')\n",
    "df.fillna(method='ffill', inplace=True)\n",
    "df.head(5)"
   ]
  },
  {
   "cell_type": "markdown",
   "id": "554c3953",
   "metadata": {},
   "source": [
    "Confirm data now scrubbed with df.info)"
   ]
  },
  {
   "cell_type": "code",
   "execution_count": 7,
   "id": "310fc38e",
   "metadata": {},
   "outputs": [
    {
     "name": "stdout",
     "output_type": "stream",
     "text": [
      "<class 'pandas.core.frame.DataFrame'>\n",
      "Int64Index: 41286 entries, 0 to 41285\n",
      "Data columns (total 2 columns):\n",
      " #   Column  Non-Null Count  Dtype         \n",
      "---  ------  --------------  -----         \n",
      " 0   Date    41286 non-null  datetime64[ns]\n",
      " 1   Mark    41286 non-null  float64       \n",
      "dtypes: datetime64[ns](1), float64(1)\n",
      "memory usage: 967.6 KB\n"
     ]
    }
   ],
   "source": [
    "df.info()"
   ]
  },
  {
   "cell_type": "markdown",
   "id": "06dd6a44",
   "metadata": {},
   "source": [
    "# Explore Data"
   ]
  },
  {
   "cell_type": "code",
   "execution_count": null,
   "id": "6ab93c81",
   "metadata": {},
   "outputs": [],
   "source": []
  },
  {
   "cell_type": "code",
   "execution_count": null,
   "id": "a6a9a6c8",
   "metadata": {},
   "outputs": [],
   "source": []
  },
  {
   "cell_type": "code",
   "execution_count": null,
   "id": "2786aec9",
   "metadata": {},
   "outputs": [],
   "source": []
  }
 ],
 "metadata": {
  "kernelspec": {
   "display_name": "Python 3",
   "language": "python",
   "name": "python3"
  },
  "language_info": {
   "codemirror_mode": {
    "name": "ipython",
    "version": 3
   },
   "file_extension": ".py",
   "mimetype": "text/x-python",
   "name": "python",
   "nbconvert_exporter": "python",
   "pygments_lexer": "ipython3",
   "version": "3.9.5"
  }
 },
 "nbformat": 4,
 "nbformat_minor": 5
}
