{
 "cells": [
  {
   "cell_type": "markdown",
   "id": "fa8c2946",
   "metadata": {},
   "source": [
    "# Import Libraries"
   ]
  },
  {
   "cell_type": "code",
   "execution_count": 4,
   "id": "387480ba",
   "metadata": {},
   "outputs": [],
   "source": [
    "import pandas as pd\n",
    "import numpy as np"
   ]
  },
  {
   "cell_type": "markdown",
   "id": "d2a6fd93",
   "metadata": {},
   "source": [
    "# Obtain Data"
   ]
  },
  {
   "cell_type": "code",
   "execution_count": 5,
   "id": "d2be5b81",
   "metadata": {},
   "outputs": [
    {
     "name": "stdout",
     "output_type": "stream",
     "text": [
      "df shape:  (23, 7)\n"
     ]
    },
    {
     "data": {
      "text/html": [
       "<div>\n",
       "<style scoped>\n",
       "    .dataframe tbody tr th:only-of-type {\n",
       "        vertical-align: middle;\n",
       "    }\n",
       "\n",
       "    .dataframe tbody tr th {\n",
       "        vertical-align: top;\n",
       "    }\n",
       "\n",
       "    .dataframe thead th {\n",
       "        text-align: right;\n",
       "    }\n",
       "</style>\n",
       "<table border=\"1\" class=\"dataframe\">\n",
       "  <thead>\n",
       "    <tr style=\"text-align: right;\">\n",
       "      <th></th>\n",
       "      <th>Mark</th>\n",
       "      <th>Wind</th>\n",
       "      <th>Competitor</th>\n",
       "      <th>DOB</th>\n",
       "      <th>Country</th>\n",
       "      <th>Venue</th>\n",
       "      <th>Date</th>\n",
       "    </tr>\n",
       "  </thead>\n",
       "  <tbody>\n",
       "    <tr>\n",
       "      <th>0</th>\n",
       "      <td>45.94</td>\n",
       "      <td>NaN</td>\n",
       "      <td>Karsten WARHOLM</td>\n",
       "      <td>28 FEB 1996</td>\n",
       "      <td>NOR</td>\n",
       "      <td>Olympic Stadium, Tokyo (JPN)</td>\n",
       "      <td>03 AUG 2021</td>\n",
       "    </tr>\n",
       "    <tr>\n",
       "      <th>1</th>\n",
       "      <td>46.70</td>\n",
       "      <td>NaN</td>\n",
       "      <td>Karsten WARHOLM</td>\n",
       "      <td>28 FEB 1996</td>\n",
       "      <td>NOR</td>\n",
       "      <td>Bislett Stadion, Oslo (NOR)</td>\n",
       "      <td>01 JUL 2021</td>\n",
       "    </tr>\n",
       "    <tr>\n",
       "      <th>2</th>\n",
       "      <td>46.78</td>\n",
       "      <td>NaN</td>\n",
       "      <td>Kevin YOUNG</td>\n",
       "      <td>16 SEP 1966</td>\n",
       "      <td>USA</td>\n",
       "      <td>Estadio Olímpico, Barcelona (ESP)</td>\n",
       "      <td>06 AUG 1992</td>\n",
       "    </tr>\n",
       "    <tr>\n",
       "      <th>3</th>\n",
       "      <td>47.02</td>\n",
       "      <td>NaN</td>\n",
       "      <td>Edwin MOSES</td>\n",
       "      <td>31 AUG 1955</td>\n",
       "      <td>USA</td>\n",
       "      <td>Koblenz (GER)</td>\n",
       "      <td>31 AUG 1983</td>\n",
       "    </tr>\n",
       "    <tr>\n",
       "      <th>4</th>\n",
       "      <td>47.13</td>\n",
       "      <td>NaN</td>\n",
       "      <td>Edwin MOSES</td>\n",
       "      <td>31 AUG 1955</td>\n",
       "      <td>USA</td>\n",
       "      <td>Milano (ITA)</td>\n",
       "      <td>03 JUL 1980</td>\n",
       "    </tr>\n",
       "  </tbody>\n",
       "</table>\n",
       "</div>"
      ],
      "text/plain": [
       "    Mark  Wind       Competitor          DOB Country  \\\n",
       "0  45.94   NaN  Karsten WARHOLM  28 FEB 1996     NOR   \n",
       "1  46.70   NaN  Karsten WARHOLM  28 FEB 1996     NOR   \n",
       "2  46.78   NaN      Kevin YOUNG  16 SEP 1966     USA   \n",
       "3  47.02   NaN      Edwin MOSES  31 AUG 1955     USA   \n",
       "4  47.13   NaN      Edwin MOSES  31 AUG 1955     USA   \n",
       "\n",
       "                               Venue         Date  \n",
       "0       Olympic Stadium, Tokyo (JPN)  03 AUG 2021  \n",
       "1        Bislett Stadion, Oslo (NOR)  01 JUL 2021  \n",
       "2  Estadio Olímpico, Barcelona (ESP)  06 AUG 1992  \n",
       "3                      Koblenz (GER)  31 AUG 1983  \n",
       "4                       Milano (ITA)  03 JUL 1980  "
      ]
     },
     "execution_count": 5,
     "metadata": {},
     "output_type": "execute_result"
    }
   ],
   "source": [
    "df = pd.read_csv('Data/400m_Hurdles_WR_Progression.csv')\n",
    "print('df shape: ', df.shape)\n",
    "df.head()"
   ]
  },
  {
   "cell_type": "markdown",
   "id": "1a1b2e5a",
   "metadata": {},
   "source": [
    "# Scrub Data"
   ]
  },
  {
   "cell_type": "code",
   "execution_count": null,
   "id": "9bf2b422",
   "metadata": {},
   "outputs": [],
   "source": []
  }
 ],
 "metadata": {
  "kernelspec": {
   "display_name": "Python 3",
   "language": "python",
   "name": "python3"
  },
  "language_info": {
   "codemirror_mode": {
    "name": "ipython",
    "version": 3
   },
   "file_extension": ".py",
   "mimetype": "text/x-python",
   "name": "python",
   "nbconvert_exporter": "python",
   "pygments_lexer": "ipython3",
   "version": "3.9.5"
  }
 },
 "nbformat": 4,
 "nbformat_minor": 5
}
