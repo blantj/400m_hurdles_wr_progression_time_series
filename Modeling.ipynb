{
 "cells": [
  {
   "cell_type": "markdown",
   "id": "fa8c2946",
   "metadata": {},
   "source": [
    "# Import Libraries"
   ]
  },
  {
   "cell_type": "code",
   "execution_count": 1,
   "id": "387480ba",
   "metadata": {},
   "outputs": [],
   "source": [
    "import pandas as pd\n",
    "import numpy as np\n",
    "import matplotlib.pyplot as plt\n",
    "import seaborn as sns"
   ]
  },
  {
   "cell_type": "markdown",
   "id": "d2a6fd93",
   "metadata": {},
   "source": [
    "# Obtain Data"
   ]
  },
  {
   "cell_type": "code",
   "execution_count": 2,
   "id": "d2be5b81",
   "metadata": {},
   "outputs": [
    {
     "name": "stdout",
     "output_type": "stream",
     "text": [
      "df shape:  (23, 7)\n"
     ]
    },
    {
     "data": {
      "text/html": [
       "<div>\n",
       "<style scoped>\n",
       "    .dataframe tbody tr th:only-of-type {\n",
       "        vertical-align: middle;\n",
       "    }\n",
       "\n",
       "    .dataframe tbody tr th {\n",
       "        vertical-align: top;\n",
       "    }\n",
       "\n",
       "    .dataframe thead th {\n",
       "        text-align: right;\n",
       "    }\n",
       "</style>\n",
       "<table border=\"1\" class=\"dataframe\">\n",
       "  <thead>\n",
       "    <tr style=\"text-align: right;\">\n",
       "      <th></th>\n",
       "      <th>Mark</th>\n",
       "      <th>Wind</th>\n",
       "      <th>Competitor</th>\n",
       "      <th>DOB</th>\n",
       "      <th>Country</th>\n",
       "      <th>Venue</th>\n",
       "      <th>Date</th>\n",
       "    </tr>\n",
       "  </thead>\n",
       "  <tbody>\n",
       "    <tr>\n",
       "      <th>0</th>\n",
       "      <td>45.94</td>\n",
       "      <td>NaN</td>\n",
       "      <td>Karsten WARHOLM</td>\n",
       "      <td>28 FEB 1996</td>\n",
       "      <td>NOR</td>\n",
       "      <td>Olympic Stadium, Tokyo (JPN)</td>\n",
       "      <td>03 AUG 2021</td>\n",
       "    </tr>\n",
       "    <tr>\n",
       "      <th>1</th>\n",
       "      <td>46.70</td>\n",
       "      <td>NaN</td>\n",
       "      <td>Karsten WARHOLM</td>\n",
       "      <td>28 FEB 1996</td>\n",
       "      <td>NOR</td>\n",
       "      <td>Bislett Stadion, Oslo (NOR)</td>\n",
       "      <td>01 JUL 2021</td>\n",
       "    </tr>\n",
       "    <tr>\n",
       "      <th>2</th>\n",
       "      <td>46.78</td>\n",
       "      <td>NaN</td>\n",
       "      <td>Kevin YOUNG</td>\n",
       "      <td>16 SEP 1966</td>\n",
       "      <td>USA</td>\n",
       "      <td>Estadio Olímpico, Barcelona (ESP)</td>\n",
       "      <td>06 AUG 1992</td>\n",
       "    </tr>\n",
       "    <tr>\n",
       "      <th>3</th>\n",
       "      <td>47.02</td>\n",
       "      <td>NaN</td>\n",
       "      <td>Edwin MOSES</td>\n",
       "      <td>31 AUG 1955</td>\n",
       "      <td>USA</td>\n",
       "      <td>Koblenz (GER)</td>\n",
       "      <td>31 AUG 1983</td>\n",
       "    </tr>\n",
       "    <tr>\n",
       "      <th>4</th>\n",
       "      <td>47.13</td>\n",
       "      <td>NaN</td>\n",
       "      <td>Edwin MOSES</td>\n",
       "      <td>31 AUG 1955</td>\n",
       "      <td>USA</td>\n",
       "      <td>Milano (ITA)</td>\n",
       "      <td>03 JUL 1980</td>\n",
       "    </tr>\n",
       "  </tbody>\n",
       "</table>\n",
       "</div>"
      ],
      "text/plain": [
       "    Mark  Wind       Competitor          DOB Country  \\\n",
       "0  45.94   NaN  Karsten WARHOLM  28 FEB 1996     NOR   \n",
       "1  46.70   NaN  Karsten WARHOLM  28 FEB 1996     NOR   \n",
       "2  46.78   NaN      Kevin YOUNG  16 SEP 1966     USA   \n",
       "3  47.02   NaN      Edwin MOSES  31 AUG 1955     USA   \n",
       "4  47.13   NaN      Edwin MOSES  31 AUG 1955     USA   \n",
       "\n",
       "                               Venue         Date  \n",
       "0       Olympic Stadium, Tokyo (JPN)  03 AUG 2021  \n",
       "1        Bislett Stadion, Oslo (NOR)  01 JUL 2021  \n",
       "2  Estadio Olímpico, Barcelona (ESP)  06 AUG 1992  \n",
       "3                      Koblenz (GER)  31 AUG 1983  \n",
       "4                       Milano (ITA)  03 JUL 1980  "
      ]
     },
     "execution_count": 2,
     "metadata": {},
     "output_type": "execute_result"
    }
   ],
   "source": [
    "df = pd.read_csv('Data/400m_Hurdles_WR_Progression.csv')\n",
    "print('df shape: ', df.shape)\n",
    "df.head()"
   ]
  },
  {
   "cell_type": "markdown",
   "id": "1a1b2e5a",
   "metadata": {},
   "source": [
    "# Scrub Data"
   ]
  },
  {
   "cell_type": "markdown",
   "id": "1a596c50",
   "metadata": {},
   "source": [
    "Confirm what scrubbing needed with df.info()"
   ]
  },
  {
   "cell_type": "code",
   "execution_count": 3,
   "id": "9bf2b422",
   "metadata": {},
   "outputs": [
    {
     "name": "stdout",
     "output_type": "stream",
     "text": [
      "<class 'pandas.core.frame.DataFrame'>\n",
      "RangeIndex: 23 entries, 0 to 22\n",
      "Data columns (total 7 columns):\n",
      " #   Column      Non-Null Count  Dtype  \n",
      "---  ------      --------------  -----  \n",
      " 0   Mark        23 non-null     object \n",
      " 1   Wind        0 non-null      float64\n",
      " 2   Competitor  23 non-null     object \n",
      " 3   DOB         23 non-null     object \n",
      " 4   Country     23 non-null     object \n",
      " 5   Venue       23 non-null     object \n",
      " 6   Date        23 non-null     object \n",
      "dtypes: float64(1), object(6)\n",
      "memory usage: 1.4+ KB\n"
     ]
    }
   ],
   "source": [
    "df.info()"
   ]
  },
  {
   "cell_type": "markdown",
   "id": "36f69186",
   "metadata": {},
   "source": [
    "Drop columns not useful for modeling"
   ]
  },
  {
   "cell_type": "code",
   "execution_count": 4,
   "id": "8d4a710d",
   "metadata": {},
   "outputs": [
    {
     "data": {
      "text/html": [
       "<div>\n",
       "<style scoped>\n",
       "    .dataframe tbody tr th:only-of-type {\n",
       "        vertical-align: middle;\n",
       "    }\n",
       "\n",
       "    .dataframe tbody tr th {\n",
       "        vertical-align: top;\n",
       "    }\n",
       "\n",
       "    .dataframe thead th {\n",
       "        text-align: right;\n",
       "    }\n",
       "</style>\n",
       "<table border=\"1\" class=\"dataframe\">\n",
       "  <thead>\n",
       "    <tr style=\"text-align: right;\">\n",
       "      <th></th>\n",
       "      <th>Mark</th>\n",
       "      <th>Date</th>\n",
       "    </tr>\n",
       "  </thead>\n",
       "  <tbody>\n",
       "    <tr>\n",
       "      <th>0</th>\n",
       "      <td>45.94</td>\n",
       "      <td>03 AUG 2021</td>\n",
       "    </tr>\n",
       "    <tr>\n",
       "      <th>1</th>\n",
       "      <td>46.70</td>\n",
       "      <td>01 JUL 2021</td>\n",
       "    </tr>\n",
       "    <tr>\n",
       "      <th>2</th>\n",
       "      <td>46.78</td>\n",
       "      <td>06 AUG 1992</td>\n",
       "    </tr>\n",
       "    <tr>\n",
       "      <th>3</th>\n",
       "      <td>47.02</td>\n",
       "      <td>31 AUG 1983</td>\n",
       "    </tr>\n",
       "    <tr>\n",
       "      <th>4</th>\n",
       "      <td>47.13</td>\n",
       "      <td>03 JUL 1980</td>\n",
       "    </tr>\n",
       "  </tbody>\n",
       "</table>\n",
       "</div>"
      ],
      "text/plain": [
       "    Mark         Date\n",
       "0  45.94  03 AUG 2021\n",
       "1  46.70  01 JUL 2021\n",
       "2  46.78  06 AUG 1992\n",
       "3  47.02  31 AUG 1983\n",
       "4  47.13  03 JUL 1980"
      ]
     },
     "execution_count": 4,
     "metadata": {},
     "output_type": "execute_result"
    }
   ],
   "source": [
    "df.drop(columns=['Wind', 'Competitor', 'DOB', 'Country', 'Venue'], inplace=True)\n",
    "df.head()"
   ]
  },
  {
   "cell_type": "markdown",
   "id": "c60beb52",
   "metadata": {},
   "source": [
    "Update Mark data type to float"
   ]
  },
  {
   "cell_type": "code",
   "execution_count": 5,
   "id": "4c665b6f",
   "metadata": {},
   "outputs": [
    {
     "data": {
      "text/html": [
       "<div>\n",
       "<style scoped>\n",
       "    .dataframe tbody tr th:only-of-type {\n",
       "        vertical-align: middle;\n",
       "    }\n",
       "\n",
       "    .dataframe tbody tr th {\n",
       "        vertical-align: top;\n",
       "    }\n",
       "\n",
       "    .dataframe thead th {\n",
       "        text-align: right;\n",
       "    }\n",
       "</style>\n",
       "<table border=\"1\" class=\"dataframe\">\n",
       "  <thead>\n",
       "    <tr style=\"text-align: right;\">\n",
       "      <th></th>\n",
       "      <th>Mark</th>\n",
       "      <th>Date</th>\n",
       "    </tr>\n",
       "  </thead>\n",
       "  <tbody>\n",
       "    <tr>\n",
       "      <th>0</th>\n",
       "      <td>45.94</td>\n",
       "      <td>03 AUG 2021</td>\n",
       "    </tr>\n",
       "    <tr>\n",
       "      <th>1</th>\n",
       "      <td>46.70</td>\n",
       "      <td>01 JUL 2021</td>\n",
       "    </tr>\n",
       "    <tr>\n",
       "      <th>2</th>\n",
       "      <td>46.78</td>\n",
       "      <td>06 AUG 1992</td>\n",
       "    </tr>\n",
       "    <tr>\n",
       "      <th>3</th>\n",
       "      <td>47.02</td>\n",
       "      <td>31 AUG 1983</td>\n",
       "    </tr>\n",
       "    <tr>\n",
       "      <th>4</th>\n",
       "      <td>47.13</td>\n",
       "      <td>03 JUL 1980</td>\n",
       "    </tr>\n",
       "  </tbody>\n",
       "</table>\n",
       "</div>"
      ],
      "text/plain": [
       "    Mark         Date\n",
       "0  45.94  03 AUG 2021\n",
       "1  46.70  01 JUL 2021\n",
       "2  46.78  06 AUG 1992\n",
       "3  47.02  31 AUG 1983\n",
       "4  47.13  03 JUL 1980"
      ]
     },
     "execution_count": 5,
     "metadata": {},
     "output_type": "execute_result"
    }
   ],
   "source": [
    "df['Mark'] = df['Mark'].apply(lambda x: x.replace('h', '').replace(' y', ''))\n",
    "df = df.astype({'Mark': float})\n",
    "df.head()"
   ]
  },
  {
   "cell_type": "markdown",
   "id": "e5f83fc1",
   "metadata": {},
   "source": [
    "Update Date data type to datetime and fill in missing dates"
   ]
  },
  {
   "cell_type": "code",
   "execution_count": 6,
   "id": "e34429ea",
   "metadata": {},
   "outputs": [
    {
     "data": {
      "text/html": [
       "<div>\n",
       "<style scoped>\n",
       "    .dataframe tbody tr th:only-of-type {\n",
       "        vertical-align: middle;\n",
       "    }\n",
       "\n",
       "    .dataframe tbody tr th {\n",
       "        vertical-align: top;\n",
       "    }\n",
       "\n",
       "    .dataframe thead th {\n",
       "        text-align: right;\n",
       "    }\n",
       "</style>\n",
       "<table border=\"1\" class=\"dataframe\">\n",
       "  <thead>\n",
       "    <tr style=\"text-align: right;\">\n",
       "      <th></th>\n",
       "      <th>Date</th>\n",
       "      <th>Mark</th>\n",
       "    </tr>\n",
       "  </thead>\n",
       "  <tbody>\n",
       "    <tr>\n",
       "      <th>0</th>\n",
       "      <td>1908-07-22</td>\n",
       "      <td>55.0</td>\n",
       "    </tr>\n",
       "    <tr>\n",
       "      <th>1</th>\n",
       "      <td>1908-07-23</td>\n",
       "      <td>55.0</td>\n",
       "    </tr>\n",
       "    <tr>\n",
       "      <th>2</th>\n",
       "      <td>1908-07-24</td>\n",
       "      <td>55.0</td>\n",
       "    </tr>\n",
       "    <tr>\n",
       "      <th>3</th>\n",
       "      <td>1908-07-25</td>\n",
       "      <td>55.0</td>\n",
       "    </tr>\n",
       "    <tr>\n",
       "      <th>4</th>\n",
       "      <td>1908-07-26</td>\n",
       "      <td>55.0</td>\n",
       "    </tr>\n",
       "  </tbody>\n",
       "</table>\n",
       "</div>"
      ],
      "text/plain": [
       "        Date  Mark\n",
       "0 1908-07-22  55.0\n",
       "1 1908-07-23  55.0\n",
       "2 1908-07-24  55.0\n",
       "3 1908-07-25  55.0\n",
       "4 1908-07-26  55.0"
      ]
     },
     "execution_count": 6,
     "metadata": {},
     "output_type": "execute_result"
    }
   ],
   "source": [
    "df = df.astype({'Date': 'datetime64[D]'})\n",
    "df.sort_values(by='Date', inplace=True)\n",
    "dates_df = pd.DataFrame(pd.date_range(start=df.Date.min(), end=df.Date.max()), columns=['Date'])\n",
    "df = pd.merge(dates_df, df, how='outer', on='Date')\n",
    "df.fillna(method='ffill', inplace=True)\n",
    "df.head(5)"
   ]
  },
  {
   "cell_type": "markdown",
   "id": "554c3953",
   "metadata": {},
   "source": [
    "Confirm data now scrubbed with df.info)"
   ]
  },
  {
   "cell_type": "code",
   "execution_count": 7,
   "id": "310fc38e",
   "metadata": {},
   "outputs": [
    {
     "name": "stdout",
     "output_type": "stream",
     "text": [
      "<class 'pandas.core.frame.DataFrame'>\n",
      "Int64Index: 41286 entries, 0 to 41285\n",
      "Data columns (total 2 columns):\n",
      " #   Column  Non-Null Count  Dtype         \n",
      "---  ------  --------------  -----         \n",
      " 0   Date    41286 non-null  datetime64[ns]\n",
      " 1   Mark    41286 non-null  float64       \n",
      "dtypes: datetime64[ns](1), float64(1)\n",
      "memory usage: 967.6 KB\n"
     ]
    }
   ],
   "source": [
    "df.info()"
   ]
  },
  {
   "cell_type": "markdown",
   "id": "06dd6a44",
   "metadata": {},
   "source": [
    "# Explore Data"
   ]
  },
  {
   "cell_type": "markdown",
   "id": "a7edc2ba",
   "metadata": {},
   "source": [
    "Calculate descriptive statistics for the time series dataset"
   ]
  },
  {
   "cell_type": "code",
   "execution_count": 8,
   "id": "a6a9a6c8",
   "metadata": {},
   "outputs": [
    {
     "data": {
      "text/plain": [
       "count    41286.000000\n",
       "mean        49.561759\n",
       "std          2.816191\n",
       "min         45.940000\n",
       "25%         46.780000\n",
       "50%         49.100000\n",
       "75%         50.600000\n",
       "max         55.000000\n",
       "Name: Mark, dtype: float64"
      ]
     },
     "execution_count": 8,
     "metadata": {},
     "output_type": "execute_result"
    }
   ],
   "source": [
    "df['Mark'].describe()"
   ]
  },
  {
   "cell_type": "markdown",
   "id": "95f0121a",
   "metadata": {},
   "source": [
    "Plot the 400m hurdles world record dataset"
   ]
  },
  {
   "cell_type": "code",
   "execution_count": 9,
   "id": "a48ca83e",
   "metadata": {
    "scrolled": true
   },
   "outputs": [
    {
     "data": {
      "text/plain": [
       "Text(0.5, 1.0, '400m Hurdles World Record By Day')"
      ]
     },
     "execution_count": 9,
     "metadata": {},
     "output_type": "execute_result"
    },
    {
     "data": {
      "image/png": "[encoded data removed]",
      "text/plain": [
       "<Figure size 432x288 with 1 Axes>"
      ]
     },
     "metadata": {
      "needs_background": "light"
     },
     "output_type": "display_data"
    }
   ],
   "source": [
    "fig, ax = plt.subplots()\n",
    "sns.lineplot(x='Date', y='Mark', data=df, ax=ax)\n",
    "ax.set_title('400m Hurdles World Record By Day')"
   ]
  },
  {
   "cell_type": "markdown",
   "id": "86c22035",
   "metadata": {},
   "source": [
    "Plot the annual trend in the 400m hurdles wr"
   ]
  },
  {
   "cell_type": "code",
   "execution_count": 10,
   "id": "e0052843",
   "metadata": {},
   "outputs": [
    {
     "data": {
      "text/plain": [
       "Text(0.5, 1.0, '400m Hurdles World Record By Year')"
      ]
     },
     "execution_count": 10,
     "metadata": {},
     "output_type": "execute_result"
    },
    {
     "data": {
      "image/png": "[encoded data removed]",
      "text/plain": [
       "<Figure size 432x288 with 1 Axes>"
      ]
     },
     "metadata": {
      "needs_background": "light"
     },
     "output_type": "display_data"
    }
   ],
   "source": [
    "annual_df = df.copy()\n",
    "annual_df['Year'] = pd.DatetimeIndex(df['Date']).year\n",
    "annual_df = annual_df.groupby('Year').min()\n",
    "annual_df.reset_index(inplace=True)\n",
    "annual_df.drop(columns=['Date'], inplace=True)\n",
    "annual_df.head()\n",
    "\n",
    "fig, ax = plt.subplots()\n",
    "sns.lineplot(x='Year', y='Mark', data=annual_df, ax=ax)\n",
    "ax.set_title('400m Hurdles World Record By Year')"
   ]
  },
  {
   "cell_type": "markdown",
   "id": "b40a2139",
   "metadata": {},
   "source": [
    "Plot the decadel trend in the 400m hurdles wr"
   ]
  },
  {
   "cell_type": "code",
   "execution_count": 11,
   "id": "4d215eda",
   "metadata": {},
   "outputs": [
    {
     "data": {
      "text/plain": [
       "Text(0.5, 1.0, '400m Hurdles World Record By Decade')"
      ]
     },
     "execution_count": 11,
     "metadata": {},
     "output_type": "execute_result"
    },
    {
     "data": {
      "image/png": "[encoded data removed]",
      "text/plain": [
       "<Figure size 432x288 with 1 Axes>"
      ]
     },
     "metadata": {
      "needs_background": "light"
     },
     "output_type": "display_data"
    }
   ],
   "source": [
    "decadal_df = annual_df.copy()\n",
    "decadal_df['Decade'] = decadal_df['Year'].apply(lambda x: int(str(x)[0:3] + '0'))\n",
    "decadal_df = decadal_df.groupby('Decade').min()\n",
    "decadal_df.drop(columns=['Year'], inplace=True)\n",
    "decadal_df.reset_index(inplace=True)\n",
    "\n",
    "fig, ax = plt.subplots()\n",
    "sns.lineplot(x='Decade', y='Mark', data=decadal_df, ax=ax)\n",
    "ax.set_title('400m Hurdles World Record By Decade')"
   ]
  },
  {
   "cell_type": "markdown",
   "id": "b6ea2d6f",
   "metadata": {},
   "source": [
    "# Model Data"
   ]
  },
  {
   "cell_type": "code",
   "execution_count": 13,
   "id": "b60f9d9c",
   "metadata": {},
   "outputs": [
    {
     "data": {
      "text/html": [
       "<div>\n",
       "<style scoped>\n",
       "    .dataframe tbody tr th:only-of-type {\n",
       "        vertical-align: middle;\n",
       "    }\n",
       "\n",
       "    .dataframe tbody tr th {\n",
       "        vertical-align: top;\n",
       "    }\n",
       "\n",
       "    .dataframe thead th {\n",
       "        text-align: right;\n",
       "    }\n",
       "</style>\n",
       "<table border=\"1\" class=\"dataframe\">\n",
       "  <thead>\n",
       "    <tr style=\"text-align: right;\">\n",
       "      <th></th>\n",
       "      <th>Year</th>\n",
       "      <th>Mark</th>\n",
       "    </tr>\n",
       "  </thead>\n",
       "  <tbody>\n",
       "    <tr>\n",
       "      <th>0</th>\n",
       "      <td>1908</td>\n",
       "      <td>55.00</td>\n",
       "    </tr>\n",
       "    <tr>\n",
       "      <th>1</th>\n",
       "      <td>1909</td>\n",
       "      <td>55.00</td>\n",
       "    </tr>\n",
       "    <tr>\n",
       "      <th>2</th>\n",
       "      <td>1910</td>\n",
       "      <td>55.00</td>\n",
       "    </tr>\n",
       "    <tr>\n",
       "      <th>3</th>\n",
       "      <td>1911</td>\n",
       "      <td>55.00</td>\n",
       "    </tr>\n",
       "    <tr>\n",
       "      <th>4</th>\n",
       "      <td>1912</td>\n",
       "      <td>55.00</td>\n",
       "    </tr>\n",
       "    <tr>\n",
       "      <th>...</th>\n",
       "      <td>...</td>\n",
       "      <td>...</td>\n",
       "    </tr>\n",
       "    <tr>\n",
       "      <th>109</th>\n",
       "      <td>2017</td>\n",
       "      <td>46.78</td>\n",
       "    </tr>\n",
       "    <tr>\n",
       "      <th>110</th>\n",
       "      <td>2018</td>\n",
       "      <td>46.78</td>\n",
       "    </tr>\n",
       "    <tr>\n",
       "      <th>111</th>\n",
       "      <td>2019</td>\n",
       "      <td>46.78</td>\n",
       "    </tr>\n",
       "    <tr>\n",
       "      <th>112</th>\n",
       "      <td>2020</td>\n",
       "      <td>46.78</td>\n",
       "    </tr>\n",
       "    <tr>\n",
       "      <th>113</th>\n",
       "      <td>2021</td>\n",
       "      <td>45.94</td>\n",
       "    </tr>\n",
       "  </tbody>\n",
       "</table>\n",
       "<p>114 rows × 2 columns</p>\n",
       "</div>"
      ],
      "text/plain": [
       "     Year   Mark\n",
       "0    1908  55.00\n",
       "1    1909  55.00\n",
       "2    1910  55.00\n",
       "3    1911  55.00\n",
       "4    1912  55.00\n",
       "..    ...    ...\n",
       "109  2017  46.78\n",
       "110  2018  46.78\n",
       "111  2019  46.78\n",
       "112  2020  46.78\n",
       "113  2021  45.94\n",
       "\n",
       "[114 rows x 2 columns]"
      ]
     },
     "execution_count": 13,
     "metadata": {},
     "output_type": "execute_result"
    }
   ],
   "source": [
    "annual_df"
   ]
  },
  {
   "cell_type": "code",
   "execution_count": 14,
   "id": "a0e7087e",
   "metadata": {},
   "outputs": [
    {
     "data": {
      "text/html": [
       "<div>\n",
       "<style scoped>\n",
       "    .dataframe tbody tr th:only-of-type {\n",
       "        vertical-align: middle;\n",
       "    }\n",
       "\n",
       "    .dataframe tbody tr th {\n",
       "        vertical-align: top;\n",
       "    }\n",
       "\n",
       "    .dataframe thead th {\n",
       "        text-align: right;\n",
       "    }\n",
       "</style>\n",
       "<table border=\"1\" class=\"dataframe\">\n",
       "  <thead>\n",
       "    <tr style=\"text-align: right;\">\n",
       "      <th></th>\n",
       "      <th>Decade</th>\n",
       "      <th>Mark</th>\n",
       "    </tr>\n",
       "  </thead>\n",
       "  <tbody>\n",
       "    <tr>\n",
       "      <th>0</th>\n",
       "      <td>1900</td>\n",
       "      <td>55.00</td>\n",
       "    </tr>\n",
       "    <tr>\n",
       "      <th>1</th>\n",
       "      <td>1910</td>\n",
       "      <td>55.00</td>\n",
       "    </tr>\n",
       "    <tr>\n",
       "      <th>2</th>\n",
       "      <td>1920</td>\n",
       "      <td>52.00</td>\n",
       "    </tr>\n",
       "    <tr>\n",
       "      <th>3</th>\n",
       "      <td>1930</td>\n",
       "      <td>50.60</td>\n",
       "    </tr>\n",
       "    <tr>\n",
       "      <th>4</th>\n",
       "      <td>1940</td>\n",
       "      <td>50.60</td>\n",
       "    </tr>\n",
       "    <tr>\n",
       "      <th>5</th>\n",
       "      <td>1950</td>\n",
       "      <td>49.20</td>\n",
       "    </tr>\n",
       "    <tr>\n",
       "      <th>6</th>\n",
       "      <td>1960</td>\n",
       "      <td>48.12</td>\n",
       "    </tr>\n",
       "    <tr>\n",
       "      <th>7</th>\n",
       "      <td>1970</td>\n",
       "      <td>47.45</td>\n",
       "    </tr>\n",
       "    <tr>\n",
       "      <th>8</th>\n",
       "      <td>1980</td>\n",
       "      <td>47.02</td>\n",
       "    </tr>\n",
       "    <tr>\n",
       "      <th>9</th>\n",
       "      <td>1990</td>\n",
       "      <td>46.78</td>\n",
       "    </tr>\n",
       "    <tr>\n",
       "      <th>10</th>\n",
       "      <td>2000</td>\n",
       "      <td>46.78</td>\n",
       "    </tr>\n",
       "    <tr>\n",
       "      <th>11</th>\n",
       "      <td>2010</td>\n",
       "      <td>46.78</td>\n",
       "    </tr>\n",
       "    <tr>\n",
       "      <th>12</th>\n",
       "      <td>2020</td>\n",
       "      <td>45.94</td>\n",
       "    </tr>\n",
       "  </tbody>\n",
       "</table>\n",
       "</div>"
      ],
      "text/plain": [
       "    Decade   Mark\n",
       "0     1900  55.00\n",
       "1     1910  55.00\n",
       "2     1920  52.00\n",
       "3     1930  50.60\n",
       "4     1940  50.60\n",
       "5     1950  49.20\n",
       "6     1960  48.12\n",
       "7     1970  47.45\n",
       "8     1980  47.02\n",
       "9     1990  46.78\n",
       "10    2000  46.78\n",
       "11    2010  46.78\n",
       "12    2020  45.94"
      ]
     },
     "execution_count": 14,
     "metadata": {},
     "output_type": "execute_result"
    }
   ],
   "source": [
    "decadal_df"
   ]
  },
  {
   "cell_type": "code",
   "execution_count": null,
   "id": "f87ec1e1",
   "metadata": {},
   "outputs": [],
   "source": []
  }
 ],
 "metadata": {
  "kernelspec": {
   "display_name": "Python 3",
   "language": "python",
   "name": "python3"
  },
  "language_info": {
   "codemirror_mode": {
    "name": "ipython",
    "version": 3
   },
   "file_extension": ".py",
   "mimetype": "text/x-python",
   "name": "python",
   "nbconvert_exporter": "python",
   "pygments_lexer": "ipython3",
   "version": "3.9.5"
  }
 },
 "nbformat": 4,
 "nbformat_minor": 5
}
